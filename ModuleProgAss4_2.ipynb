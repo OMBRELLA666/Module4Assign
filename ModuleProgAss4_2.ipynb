{
  "metadata": {
    "kernelspec": {
      "name": "python",
      "display_name": "Python (Pyodide)",
      "language": "python"
    },
    "language_info": {
      "codemirror_mode": {
        "name": "python",
        "version": 3
      },
      "file_extension": ".py",
      "mimetype": "text/x-python",
      "name": "python",
      "nbconvert_exporter": "python",
      "pygments_lexer": "ipython3",
      "version": "3.8"
    }
  },
  "nbformat_minor": 5,
  "nbformat": 4,
  "cells": [
    {
      "id": "1ea618c4-d292-4808-96f2-45dadc7cd3a8",
      "cell_type": "code",
      "source": "from sqlalchemy import create_engine\n\n# Create an engine to connect to the SQLite database\nengine = create_engine('sqlite:///books.db')\n\n# Connect to the database\nconnection = engine.connect()\n\n# Optional: Confirm connection works by checking the table names\nprint(engine.table_names())  \n\n# Preferred alternative in newer SQLAlchemy versions (1.4+)\nfrom sqlalchemy import inspect\ninspector = inspect(engine)\nprint(inspector.get_table_names())\n\n# Don’t forget to close the connection when done\nconnection.close()\n",
      "metadata": {
        "trusted": true
      },
      "outputs": [],
      "execution_count": null
    }
  ]
}