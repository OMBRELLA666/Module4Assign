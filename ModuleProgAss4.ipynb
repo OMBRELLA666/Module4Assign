{
  "metadata": {
    "kernelspec": {
      "name": "python",
      "display_name": "Python (Pyodide)",
      "language": "python"
    },
    "language_info": {
      "codemirror_mode": {
        "name": "python",
        "version": 3
      },
      "file_extension": ".py",
      "mimetype": "text/x-python",
      "name": "python",
      "nbconvert_exporter": "python",
      "pygments_lexer": "ipython3",
      "version": "3.8"
    }
  },
  "nbformat_minor": 5,
  "nbformat": 4,
  "cells": [
    {
      "id": "9ef2994b-61a1-46af-928d-f516394f33d1",
      "cell_type": "code",
      "source": "# zoo.py\n\ndef hours():\n    print('Open 9-5 daily')",
      "metadata": {
        "trusted": true
      },
      "outputs": [],
      "execution_count": 4
    },
    {
      "id": "11c770b7-cdd7-4f46-892a-e665101835d0",
      "cell_type": "code",
      "source": ">>> import zoo\n>>> zoo.hours()",
      "metadata": {
        "trusted": true
      },
      "outputs": [],
      "execution_count": null
    },
    {
      "id": "5a75a654-614d-4832-a585-6fe7de032575",
      "cell_type": "code",
      "source": ">>> import zoo as menagerie\n>>> menagerie.hours()",
      "metadata": {
        "trusted": true
      },
      "outputs": [],
      "execution_count": null
    }
  ]
}